{
 "cells": [
  {
   "cell_type": "markdown",
   "metadata": {},
   "source": [
    "## **Segmentation of mitochondria in WebKnossos datasets with Empanada (napari)**\n",
    "---\n",
    "Perform segmentation of mitochondria using a pretrained neural network `MitoNet` in `napari`"
   ]
  },
  {
   "cell_type": "code",
   "execution_count": 30,
   "metadata": {},
   "outputs": [],
   "source": [
    "# Data import\n",
    "import webknossos as wk\n",
    "import numpy as np\n",
    "import zarr\n",
    "import tifffile as tf\n",
    "\n",
    "# Napari\n",
    "import napari\n",
    "from empanada_napari._volume_inference import volume_inference_widget\n",
    "import empanada\n",
    "#viewer = napari.Viewer(show=False) # Runs Napari in headless mode\n",
    "\n",
    "# Empanada\n",
    "import os\n",
    "import torch\n",
    "import albumentations as A\n",
    "from albumentations.pytorch import ToTensorV2\n",
    "from skimage import io\n",
    "\n",
    "\n",
    "import torch.multiprocessing as mp\n",
    "from torch.utils.data import DataLoader\n",
    "from tqdm import tqdm\n",
    "\n",
    "from empanada.data import VolumeDataset\n",
    "from empanada.inference.engines import PanopticDeepLabRenderEngine3d\n",
    "from empanada.inference import filters\n",
    "from empanada.config_loaders import load_config\n",
    "from empanada.inference.patterns import *\n",
    "\n",
    "# Analysis\n",
    "# import seaborn as sns\n",
    "import pandas as pd\n",
    "import matplotlib.pyplot as plt\n",
    "\n",
    "# Create an empty viewer\n",
    "viewer = napari.Viewer()\n",
    "# viewer = napari.Viewer(show=False) # Runs Napari in headless mode"
   ]
  },
  {
   "cell_type": "code",
   "execution_count": 2,
   "metadata": {},
   "outputs": [],
   "source": [
    "def import_wk_dataset_remote(TOKEN, url, dataset_name, organization_id, bbox=None) -> None:\n",
    "    # use the context to get acces to your group\n",
    "    with wk.webknossos_context(\n",
    "        token=TOKEN,\n",
    "        url=url\n",
    "    ):\n",
    "\n",
    "    # open remote dataset with dataset name, organization id and WebKnossos url \n",
    "        dataset = wk.Dataset.open_remote(\n",
    "                dataset_name_or_url = dataset_name,\n",
    "                organization_id = organization_id,\n",
    "                webknossos_url = url)\n",
    "        voxel_size = dataset.voxel_size\n",
    "\n",
    "        EM = dataset.get_layer(\"color\") # Layer\n",
    "        mag_view = EM.get_mag(MAG) # MagView\n",
    "        view = mag_view.get_view(absolute_offset=bbox.topleft, size=bbox.size)\n",
    "        data = view.read()\n",
    "        # zarr_array = view.get_zarr_array() \n",
    "        # dask_array = da.from_array(zarr_array, chunks=(1, 256, 256, 256))[\n",
    "        #     (0,) + mag_view.bounding_box.in_mag(MAG).to_slices()]\n",
    "        \n",
    "    #return dask_array, zarr_array\n",
    "    return dataset, data, voxel_size\n",
    "\n",
    "# if __name__ == \"__main__\":\n",
    "#     import_wk_dataset_remote(TOKEN, url, dataset_name, organization_id, bbox=bbox)\n",
    "\n",
    "def import_wk_dataset_local(dir_path, bbox=None) -> None:\n",
    "    # open local dataset in given directory \n",
    "    dataset = wk.Dataset.open(\n",
    "        dataset_path = dir_path)\n",
    "    voxel_size = dataset.voxel_size\n",
    "\n",
    "    EM = dataset.get_layer(\"color\") # Layer\n",
    "    mag_view = EM.get_mag(MAG) # MagView\n",
    "\n",
    "    view = mag_view.get_view(absolute_offset=bbox.topleft, size=bbox.size) # \"absolute_offset\" and \"size\" are in Mag(1)!\n",
    "    data = view.read()\n",
    "        \n",
    "    # return data, voxel size\n",
    "    return dataset, data, voxel_size\n",
    "\n",
    "def inference_3d(config, volume_data, mode='stack', qlen=3, nmax=20000, seg_thr=0.3, nms_thr=0.1, nms_kernel=3, \n",
    "                iou_thr=0.25, ioa_thr=0.25, pixel_vote_thr=2, cluster_io_thr=0.75, min_size=200, \n",
    "                min_span=2, downsample_f=1, one_view=True, fine_boundaries=False, use_cpu=True):\n",
    "                \n",
    "    # read the model config file\n",
    "    config = load_config(config)\n",
    "\n",
    "    # set device and determine model to load\n",
    "    device = torch.device(\"cuda:0\" if torch.cuda.is_available() and not use_cpu else \"cpu\")\n",
    "    use_quantized = str(device) == 'cpu' and config.get('model_quantized') is not None\n",
    "    model_key = 'model_quantized' if use_quantized  else 'model'\n",
    "    \n",
    "    if os.path.isfile(config[model_key]):\n",
    "        model = torch.jit.load(config[model_key])\n",
    "    else:\n",
    "        model = torch.hub.load_state_dict_from_url(config[model_key])\n",
    "\n",
    "    model = model.to(device)\n",
    "    model.eval()\n",
    "\n",
    "    # data\n",
    "    volume = np.squeeze(volume_data)\n",
    "    shape = volume.shape\n",
    "\n",
    "    if mode == 'orthoplane':\n",
    "        axes = {'xy': 0, 'xz': 1, 'yz': 2} # x, y, z\n",
    "    else:\n",
    "        axes = {'yz': 2}\n",
    "\n",
    "    eval_tfs = A.Compose([\n",
    "        A.Normalize(**config['norms']),\n",
    "        ToTensorV2()\n",
    "    ])\n",
    "\n",
    "    trackers = {}\n",
    "    class_labels = list(config['class_names'].keys())\n",
    "    thing_list = config['thing_list']\n",
    "    label_divisor = nmax\n",
    "\n",
    "    # create a separate tracker for\n",
    "    # each prediction axis and each segmentation class\n",
    "    trackers = create_axis_trackers(axes, class_labels, label_divisor, shape)\n",
    "\n",
    "    for axis_name, axis in axes.items():\n",
    "        print(f'Predicting {axis_name} stack')\n",
    "        stack = None\n",
    "\n",
    "        # create the inference engine\n",
    "        inference_engine = PanopticDeepLabRenderEngine3d(\n",
    "            model, thing_list=thing_list,\n",
    "            median_kernel_size=qlen,\n",
    "            label_divisor=label_divisor,\n",
    "            nms_threshold=nms_thr,\n",
    "            nms_kernel=nms_kernel,\n",
    "            confidence_thr=seg_thr,\n",
    "            padding_factor=config['padding_factor'],\n",
    "            coarse_boundaries=not fine_boundaries\n",
    "        )\n",
    "\n",
    "        # create a separate matcher for each thing class\n",
    "        matchers = create_matchers(thing_list, label_divisor, iou_thr, ioa_thr)\n",
    "\n",
    "        # setup matcher for multiprocessing\n",
    "        queue = mp.Queue()\n",
    "        rle_stack = []\n",
    "        matcher_out, matcher_in = mp.Pipe()\n",
    "        matcher_args = (\n",
    "            matchers, queue, rle_stack, matcher_in,\n",
    "            class_labels, label_divisor, thing_list\n",
    "        )\n",
    "        matcher_proc = mp.Process(target=forward_matching, args=matcher_args)\n",
    "        matcher_proc.start()\n",
    "\n",
    "        # make axis-specific dataset\n",
    "        dataset = VolumeDataset(volume, axis, eval_tfs, scale=downsample_f)\n",
    "\n",
    "        num_workers = 1\n",
    "        dataloader = DataLoader(\n",
    "            dataset, batch_size=1, shuffle=False,\n",
    "            pin_memory=(device == 'gpu'), drop_last=False,\n",
    "            num_workers=num_workers\n",
    "        )\n",
    "\n",
    "        for batch in tqdm(dataloader, total=len(dataloader)):\n",
    "            image = batch['image']\n",
    "            size = batch['size']\n",
    "\n",
    "            # pads and crops image in the engine\n",
    "            # upsample output by same factor as downsampled input\n",
    "            pan_seg = inference_engine(image, size, upsampling=downsample_f)\n",
    "\n",
    "            if pan_seg is None:\n",
    "                queue.put(None)\n",
    "                continue\n",
    "            else:\n",
    "                pan_seg = pan_seg.squeeze().cpu().numpy()\n",
    "                queue.put(pan_seg)\n",
    "\n",
    "        final_segs = inference_engine.end(downsample_f)\n",
    "        if final_segs:\n",
    "            for i, pan_seg in enumerate(final_segs):\n",
    "                pan_seg = pan_seg.squeeze().cpu().numpy()\n",
    "                queue.put(pan_seg)\n",
    "\n",
    "        # finish and close forward matching process\n",
    "        queue.put('finish')\n",
    "        rle_stack = matcher_out.recv()[0]\n",
    "        matcher_proc.join()\n",
    "\n",
    "        print(f'Propagating labels backward through the stack...')\n",
    "        for index,rle_seg in tqdm(backward_matching(rle_stack, matchers, shape[axis]), total=shape[axis]):\n",
    "            update_trackers(rle_seg, index, trackers[axis_name])\n",
    "\n",
    "        finish_tracking(trackers[axis_name])\n",
    "        for tracker in trackers[axis_name]:\n",
    "            filters.remove_small_objects(tracker, min_size=min_size)\n",
    "            filters.remove_pancakes(tracker, min_span=min_span)\n",
    "\n",
    "    # create the final instance segmentations\n",
    "    for class_id, class_name in config['class_names'].items():\n",
    "        print(f'Creating consensus segmentation for class {class_name}...')\n",
    "        class_trackers = get_axis_trackers_by_class(trackers, class_id)\n",
    "\n",
    "        # merge instances from orthoplane inference if applicable\n",
    "        if mode == 'orthoplane':\n",
    "            if class_id in thing_list:\n",
    "                consensus_tracker = create_instance_consensus(\n",
    "                    class_trackers, pixel_vote_thr, cluster_iou_thr, one_view\n",
    "                )\n",
    "                filters.remove_small_objects(consensus_tracker, min_size=min_size)\n",
    "                filters.remove_pancakes(consensus_tracker, min_span=min_span)\n",
    "            else:\n",
    "                consensus_tracker = create_semantic_consensus(class_trackers, pixel_vote_thr)\n",
    "        else:\n",
    "            consensus_tracker = class_trackers[0]\n",
    "\n",
    "        dtype = np.uint32 if class_id in thing_list else np.uint8\n",
    "\n",
    "        # decode and fill the instances\n",
    "        consensus_vol = np.zeros(shape, dtype=dtype)\n",
    "        fill_volume(consensus_vol, consensus_tracker.instances)\n",
    "\n",
    "    print('Finished!')\n",
    "    return consensus_vol"
   ]
  },
  {
   "cell_type": "markdown",
   "metadata": {},
   "source": [
    "### **3.1 Configure dataset parameters**\n",
    "---"
   ]
  },
  {
   "cell_type": "code",
   "execution_count": 39,
   "metadata": {},
   "outputs": [],
   "source": [
    "TOKEN = \"A_KRh0eDGiIuQMTL1EKxWg\" # Don't share with others!\n",
    "url = \"https://webknossos.tnw.tudelft.nl\"\n",
    "dataset_name = \"20230626_RP_serial\"\n",
    "organization_id = \"hoogenboom-group\"\n",
    "dir_path = 'Z:/webknossos/binaryData/hoogenboom-group/20230626_RP_serial'\n",
    "mag_x, mag_y, mag_z = 16, 16, 1\n",
    "MAG = wk.Mag(f\"{mag_x}-{mag_y}-{mag_z}\")"
   ]
  },
  {
   "cell_type": "markdown",
   "metadata": {},
   "source": [
    "### **3.2 Read data from WebKnossos (remote or local)**\n",
    "---\n",
    "Reads data test stack from remote `WebKnossos` dataset"
   ]
  },
  {
   "cell_type": "code",
   "execution_count": 37,
   "metadata": {},
   "outputs": [],
   "source": [
    "# Read test stack using defined bounding box (coordinates are on full resolution)\n",
    "bbox = wk.BoundingBox((11904, 11328, 0),(12800,12800,43)).align_with_mag(MAG) # ((x0, y0, z0), (x_size, y_size, z_size)) 34816 × 35840\n",
    "# bbox = BoundingBox((14697, 17394, 0),(2048,2048,43)).align_with_mag(MAG) # ((x0, y0, z0), (x_size, y_size, z_size))"
   ]
  },
  {
   "cell_type": "code",
   "execution_count": 35,
   "metadata": {},
   "outputs": [
    {
     "ename": "KeyboardInterrupt",
     "evalue": "",
     "output_type": "error",
     "traceback": [
      "\u001b[1;31m---------------------------------------------------------------------------\u001b[0m",
      "\u001b[1;31mKeyboardInterrupt\u001b[0m                         Traceback (most recent call last)",
      "\u001b[1;32mc:\\Users\\ajkievits\\Git\\mito-segmentation\\mito-segmentation_test_stack.ipynb Cell 8\u001b[0m line \u001b[0;36m2\n\u001b[0;32m      <a href='vscode-notebook-cell:/c%3A/Users/ajkievits/Git/mito-segmentation/mito-segmentation_test_stack.ipynb#X10sZmlsZQ%3D%3D?line=0'>1</a>\u001b[0m \u001b[39m# For remote access\u001b[39;00m\n\u001b[1;32m----> <a href='vscode-notebook-cell:/c%3A/Users/ajkievits/Git/mito-segmentation/mito-segmentation_test_stack.ipynb#X10sZmlsZQ%3D%3D?line=1'>2</a>\u001b[0m dataset, data, voxelsize \u001b[39m=\u001b[39m import_wk_dataset_remote(TOKEN, url, dataset_name, organization_id, bbox\u001b[39m=\u001b[39;49mbbox) \n\u001b[0;32m      <a href='vscode-notebook-cell:/c%3A/Users/ajkievits/Git/mito-segmentation/mito-segmentation_test_stack.ipynb#X10sZmlsZQ%3D%3D?line=2'>3</a>\u001b[0m scale_factor \u001b[39m=\u001b[39m voxelsize[\u001b[39m2\u001b[39m] \u001b[39m/\u001b[39m voxelsize[\u001b[39m0\u001b[39m] \u001b[39m/\u001b[39m (mag_x \u001b[39m/\u001b[39m mag_z) \u001b[39m# determine scalefactor for viewing\u001b[39;00m\n\u001b[0;32m      <a href='vscode-notebook-cell:/c%3A/Users/ajkievits/Git/mito-segmentation/mito-segmentation_test_stack.ipynb#X10sZmlsZQ%3D%3D?line=3'>4</a>\u001b[0m data\u001b[39m.\u001b[39mshape \u001b[39m# Coordinates are (x, y, z), but Napari weirdly reads this as (z, x, y)...\u001b[39;00m\n",
      "\u001b[1;32mc:\\Users\\ajkievits\\Git\\mito-segmentation\\mito-segmentation_test_stack.ipynb Cell 8\u001b[0m line \u001b[0;36m1\n\u001b[0;32m     <a href='vscode-notebook-cell:/c%3A/Users/ajkievits/Git/mito-segmentation/mito-segmentation_test_stack.ipynb#X10sZmlsZQ%3D%3D?line=15'>16</a>\u001b[0m     mag_view \u001b[39m=\u001b[39m EM\u001b[39m.\u001b[39mget_mag(MAG) \u001b[39m# MagView\u001b[39;00m\n\u001b[0;32m     <a href='vscode-notebook-cell:/c%3A/Users/ajkievits/Git/mito-segmentation/mito-segmentation_test_stack.ipynb#X10sZmlsZQ%3D%3D?line=16'>17</a>\u001b[0m     view \u001b[39m=\u001b[39m mag_view\u001b[39m.\u001b[39mget_view(absolute_offset\u001b[39m=\u001b[39mbbox\u001b[39m.\u001b[39mtopleft, size\u001b[39m=\u001b[39mbbox\u001b[39m.\u001b[39msize)\n\u001b[1;32m---> <a href='vscode-notebook-cell:/c%3A/Users/ajkievits/Git/mito-segmentation/mito-segmentation_test_stack.ipynb#X10sZmlsZQ%3D%3D?line=17'>18</a>\u001b[0m     data \u001b[39m=\u001b[39m view\u001b[39m.\u001b[39;49mread()\n\u001b[0;32m     <a href='vscode-notebook-cell:/c%3A/Users/ajkievits/Git/mito-segmentation/mito-segmentation_test_stack.ipynb#X10sZmlsZQ%3D%3D?line=18'>19</a>\u001b[0m     \u001b[39m# zarr_array = view.get_zarr_array() \u001b[39;00m\n\u001b[0;32m     <a href='vscode-notebook-cell:/c%3A/Users/ajkievits/Git/mito-segmentation/mito-segmentation_test_stack.ipynb#X10sZmlsZQ%3D%3D?line=19'>20</a>\u001b[0m     \u001b[39m# dask_array = da.from_array(zarr_array, chunks=(1, 256, 256, 256))[\u001b[39;00m\n\u001b[0;32m     <a href='vscode-notebook-cell:/c%3A/Users/ajkievits/Git/mito-segmentation/mito-segmentation_test_stack.ipynb#X10sZmlsZQ%3D%3D?line=20'>21</a>\u001b[0m     \u001b[39m#     (0,) + mag_view.bounding_box.in_mag(MAG).to_slices()]\u001b[39;00m\n\u001b[0;32m     <a href='vscode-notebook-cell:/c%3A/Users/ajkievits/Git/mito-segmentation/mito-segmentation_test_stack.ipynb#X10sZmlsZQ%3D%3D?line=21'>22</a>\u001b[0m     \n\u001b[0;32m     <a href='vscode-notebook-cell:/c%3A/Users/ajkievits/Git/mito-segmentation/mito-segmentation_test_stack.ipynb#X10sZmlsZQ%3D%3D?line=22'>23</a>\u001b[0m \u001b[39m#return dask_array, zarr_array\u001b[39;00m\n\u001b[0;32m     <a href='vscode-notebook-cell:/c%3A/Users/ajkievits/Git/mito-segmentation/mito-segmentation_test_stack.ipynb#X10sZmlsZQ%3D%3D?line=23'>24</a>\u001b[0m \u001b[39mreturn\u001b[39;00m dataset, data, voxel_size\n",
      "File \u001b[1;32mc:\\Users\\ajkievits\\Miniconda3\\envs\\mito-seg\\lib\\site-packages\\webknossos\\dataset\\view.py:465\u001b[0m, in \u001b[0;36mView.read\u001b[1;34m(self, offset, size, relative_offset, absolute_offset, relative_bounding_box, absolute_bounding_box)\u001b[0m\n\u001b[0;32m    457\u001b[0m \u001b[39massert\u001b[39;00m \u001b[39mnot\u001b[39;00m mag1_bbox\u001b[39m.\u001b[39mis_empty(), (\n\u001b[0;32m    458\u001b[0m     \u001b[39mf\u001b[39m\u001b[39m\"\u001b[39m\u001b[39mThe size (\u001b[39m\u001b[39m{\u001b[39;00mmag1_bbox\u001b[39m.\u001b[39msize\u001b[39m}\u001b[39;00m\u001b[39m in mag1) contains a zero. \u001b[39m\u001b[39m\"\u001b[39m\n\u001b[0;32m    459\u001b[0m     \u001b[39m+\u001b[39m \u001b[39m\"\u001b[39m\u001b[39mAll dimensions must be strictly larger than \u001b[39m\u001b[39m'\u001b[39m\u001b[39m0\u001b[39m\u001b[39m'\u001b[39m\u001b[39m.\u001b[39m\u001b[39m\"\u001b[39m\n\u001b[0;32m    460\u001b[0m )\n\u001b[0;32m    461\u001b[0m \u001b[39massert\u001b[39;00m (\n\u001b[0;32m    462\u001b[0m     mag1_bbox\u001b[39m.\u001b[39mtopleft\u001b[39m.\u001b[39mis_positive()\n\u001b[0;32m    463\u001b[0m ), \u001b[39mf\u001b[39m\u001b[39m\"\u001b[39m\u001b[39mThe offset (\u001b[39m\u001b[39m{\u001b[39;00mmag1_bbox\u001b[39m.\u001b[39mtopleft\u001b[39m}\u001b[39;00m\u001b[39m in mag1) must not contain negative dimensions.\u001b[39m\u001b[39m\"\u001b[39m\n\u001b[1;32m--> 465\u001b[0m \u001b[39mreturn\u001b[39;00m \u001b[39mself\u001b[39;49m\u001b[39m.\u001b[39;49m_read_without_checks(mag1_bbox\u001b[39m.\u001b[39;49min_mag(\u001b[39mself\u001b[39;49m\u001b[39m.\u001b[39;49m_mag))\n",
      "File \u001b[1;32mc:\\Users\\ajkievits\\Miniconda3\\envs\\mito-seg\\lib\\site-packages\\webknossos\\dataset\\view.py:502\u001b[0m, in \u001b[0;36mView._read_without_checks\u001b[1;34m(self, current_mag_bbox)\u001b[0m\n\u001b[0;32m    498\u001b[0m \u001b[39mdef\u001b[39;00m \u001b[39m_read_without_checks\u001b[39m(\n\u001b[0;32m    499\u001b[0m     \u001b[39mself\u001b[39m,\n\u001b[0;32m    500\u001b[0m     current_mag_bbox: BoundingBox,\n\u001b[0;32m    501\u001b[0m ) \u001b[39m-\u001b[39m\u001b[39m>\u001b[39m np\u001b[39m.\u001b[39mndarray:\n\u001b[1;32m--> 502\u001b[0m     data \u001b[39m=\u001b[39m \u001b[39mself\u001b[39;49m\u001b[39m.\u001b[39;49m_array\u001b[39m.\u001b[39;49mread(\n\u001b[0;32m    503\u001b[0m         current_mag_bbox\u001b[39m.\u001b[39;49mtopleft\u001b[39m.\u001b[39;49mto_np(), current_mag_bbox\u001b[39m.\u001b[39;49msize\u001b[39m.\u001b[39;49mto_np()\n\u001b[0;32m    504\u001b[0m     )\n\u001b[0;32m    505\u001b[0m     \u001b[39mreturn\u001b[39;00m data\n",
      "File \u001b[1;32mc:\\Users\\ajkievits\\Miniconda3\\envs\\mito-seg\\lib\\site-packages\\webknossos\\dataset\\_array.py:358\u001b[0m, in \u001b[0;36mZarrArray.read\u001b[1;34m(self, offset, shape)\u001b[0m\n\u001b[0;32m    356\u001b[0m zarray \u001b[39m=\u001b[39m \u001b[39mself\u001b[39m\u001b[39m.\u001b[39m_zarray\n\u001b[0;32m    357\u001b[0m \u001b[39mwith\u001b[39;00m _blosc_disable_threading():\n\u001b[1;32m--> 358\u001b[0m     data \u001b[39m=\u001b[39m zarray[\n\u001b[0;32m    359\u001b[0m         :,\n\u001b[0;32m    360\u001b[0m         offset\u001b[39m.\u001b[39;49mx : (offset\u001b[39m.\u001b[39;49mx \u001b[39m+\u001b[39;49m shape\u001b[39m.\u001b[39;49mx),\n\u001b[0;32m    361\u001b[0m         offset\u001b[39m.\u001b[39;49my : (offset\u001b[39m.\u001b[39;49my \u001b[39m+\u001b[39;49m shape\u001b[39m.\u001b[39;49my),\n\u001b[0;32m    362\u001b[0m         offset\u001b[39m.\u001b[39;49mz : (offset\u001b[39m.\u001b[39;49mz \u001b[39m+\u001b[39;49m shape\u001b[39m.\u001b[39;49mz),\n\u001b[0;32m    363\u001b[0m     ]\n\u001b[0;32m    364\u001b[0m \u001b[39mif\u001b[39;00m data\u001b[39m.\u001b[39mshape \u001b[39m!=\u001b[39m shape:\n\u001b[0;32m    365\u001b[0m     padded_data \u001b[39m=\u001b[39m np\u001b[39m.\u001b[39mzeros(\n\u001b[0;32m    366\u001b[0m         (\u001b[39mself\u001b[39m\u001b[39m.\u001b[39minfo\u001b[39m.\u001b[39mnum_channels,) \u001b[39m+\u001b[39m shape\u001b[39m.\u001b[39mto_tuple(), dtype\u001b[39m=\u001b[39mdata\u001b[39m.\u001b[39mdtype\n\u001b[0;32m    367\u001b[0m     )\n",
      "File \u001b[1;32mc:\\Users\\ajkievits\\Miniconda3\\envs\\mito-seg\\lib\\site-packages\\zarr\\core.py:842\u001b[0m, in \u001b[0;36mArray.__getitem__\u001b[1;34m(self, selection)\u001b[0m\n\u001b[0;32m    840\u001b[0m     result \u001b[39m=\u001b[39m \u001b[39mself\u001b[39m\u001b[39m.\u001b[39mvindex[selection]\n\u001b[0;32m    841\u001b[0m \u001b[39melif\u001b[39;00m is_pure_orthogonal_indexing(pure_selection, \u001b[39mself\u001b[39m\u001b[39m.\u001b[39mndim):\n\u001b[1;32m--> 842\u001b[0m     result \u001b[39m=\u001b[39m \u001b[39mself\u001b[39;49m\u001b[39m.\u001b[39;49mget_orthogonal_selection(pure_selection, fields\u001b[39m=\u001b[39;49mfields)\n\u001b[0;32m    843\u001b[0m \u001b[39melse\u001b[39;00m:\n\u001b[0;32m    844\u001b[0m     result \u001b[39m=\u001b[39m \u001b[39mself\u001b[39m\u001b[39m.\u001b[39mget_basic_selection(pure_selection, fields\u001b[39m=\u001b[39mfields)\n",
      "File \u001b[1;32mc:\\Users\\ajkievits\\Miniconda3\\envs\\mito-seg\\lib\\site-packages\\zarr\\core.py:1124\u001b[0m, in \u001b[0;36mArray.get_orthogonal_selection\u001b[1;34m(self, selection, out, fields)\u001b[0m\n\u001b[0;32m   1121\u001b[0m \u001b[39m# setup indexer\u001b[39;00m\n\u001b[0;32m   1122\u001b[0m indexer \u001b[39m=\u001b[39m OrthogonalIndexer(selection, \u001b[39mself\u001b[39m)\n\u001b[1;32m-> 1124\u001b[0m \u001b[39mreturn\u001b[39;00m \u001b[39mself\u001b[39;49m\u001b[39m.\u001b[39;49m_get_selection(indexer\u001b[39m=\u001b[39;49mindexer, out\u001b[39m=\u001b[39;49mout, fields\u001b[39m=\u001b[39;49mfields)\n",
      "File \u001b[1;32mc:\\Users\\ajkievits\\Miniconda3\\envs\\mito-seg\\lib\\site-packages\\zarr\\core.py:1388\u001b[0m, in \u001b[0;36mArray._get_selection\u001b[1;34m(self, indexer, out, fields)\u001b[0m\n\u001b[0;32m   1385\u001b[0m \u001b[39mif\u001b[39;00m math\u001b[39m.\u001b[39mprod(out_shape) \u001b[39m>\u001b[39m \u001b[39m0\u001b[39m:\n\u001b[0;32m   1386\u001b[0m     \u001b[39m# allow storage to get multiple items at once\u001b[39;00m\n\u001b[0;32m   1387\u001b[0m     lchunk_coords, lchunk_selection, lout_selection \u001b[39m=\u001b[39m \u001b[39mzip\u001b[39m(\u001b[39m*\u001b[39mindexer)\n\u001b[1;32m-> 1388\u001b[0m     \u001b[39mself\u001b[39;49m\u001b[39m.\u001b[39;49m_chunk_getitems(\n\u001b[0;32m   1389\u001b[0m         lchunk_coords,\n\u001b[0;32m   1390\u001b[0m         lchunk_selection,\n\u001b[0;32m   1391\u001b[0m         out,\n\u001b[0;32m   1392\u001b[0m         lout_selection,\n\u001b[0;32m   1393\u001b[0m         drop_axes\u001b[39m=\u001b[39;49mindexer\u001b[39m.\u001b[39;49mdrop_axes,\n\u001b[0;32m   1394\u001b[0m         fields\u001b[39m=\u001b[39;49mfields,\n\u001b[0;32m   1395\u001b[0m     )\n\u001b[0;32m   1396\u001b[0m \u001b[39mif\u001b[39;00m out\u001b[39m.\u001b[39mshape:\n\u001b[0;32m   1397\u001b[0m     \u001b[39mreturn\u001b[39;00m out\n",
      "File \u001b[1;32mc:\\Users\\ajkievits\\Miniconda3\\envs\\mito-seg\\lib\\site-packages\\zarr\\core.py:2224\u001b[0m, in \u001b[0;36mArray._chunk_getitems\u001b[1;34m(self, lchunk_coords, lchunk_selection, out, lout_selection, drop_axes, fields)\u001b[0m\n\u001b[0;32m   2222\u001b[0m     \u001b[39mif\u001b[39;00m \u001b[39mnot\u001b[39;00m \u001b[39misinstance\u001b[39m(\u001b[39mself\u001b[39m\u001b[39m.\u001b[39m_meta_array, np\u001b[39m.\u001b[39mndarray):\n\u001b[0;32m   2223\u001b[0m         contexts \u001b[39m=\u001b[39m ConstantMap(ckeys, constant\u001b[39m=\u001b[39mContext(meta_array\u001b[39m=\u001b[39m\u001b[39mself\u001b[39m\u001b[39m.\u001b[39m_meta_array))\n\u001b[1;32m-> 2224\u001b[0m     cdatas \u001b[39m=\u001b[39m \u001b[39mself\u001b[39;49m\u001b[39m.\u001b[39;49mchunk_store\u001b[39m.\u001b[39;49mgetitems(ckeys, contexts\u001b[39m=\u001b[39;49mcontexts)\n\u001b[0;32m   2226\u001b[0m \u001b[39mfor\u001b[39;00m ckey, chunk_select, out_select \u001b[39min\u001b[39;00m \u001b[39mzip\u001b[39m(ckeys, lchunk_selection, lout_selection):\n\u001b[0;32m   2227\u001b[0m     \u001b[39mif\u001b[39;00m ckey \u001b[39min\u001b[39;00m cdatas:\n",
      "File \u001b[1;32mc:\\Users\\ajkievits\\Miniconda3\\envs\\mito-seg\\lib\\site-packages\\zarr\\storage.py:1420\u001b[0m, in \u001b[0;36mFSStore.getitems\u001b[1;34m(self, keys, contexts)\u001b[0m\n\u001b[0;32m   1415\u001b[0m \u001b[39mdef\u001b[39;00m \u001b[39mgetitems\u001b[39m(\n\u001b[0;32m   1416\u001b[0m     \u001b[39mself\u001b[39m, keys: Sequence[\u001b[39mstr\u001b[39m], \u001b[39m*\u001b[39m, contexts: Mapping[\u001b[39mstr\u001b[39m, Context]\n\u001b[0;32m   1417\u001b[0m ) \u001b[39m-\u001b[39m\u001b[39m>\u001b[39m Mapping[\u001b[39mstr\u001b[39m, Any]:\n\u001b[0;32m   1419\u001b[0m     keys_transformed \u001b[39m=\u001b[39m [\u001b[39mself\u001b[39m\u001b[39m.\u001b[39m_normalize_key(key) \u001b[39mfor\u001b[39;00m key \u001b[39min\u001b[39;00m keys]\n\u001b[1;32m-> 1420\u001b[0m     results \u001b[39m=\u001b[39m \u001b[39mself\u001b[39;49m\u001b[39m.\u001b[39;49mmap\u001b[39m.\u001b[39;49mgetitems(keys_transformed, on_error\u001b[39m=\u001b[39;49m\u001b[39m\"\u001b[39;49m\u001b[39momit\u001b[39;49m\u001b[39m\"\u001b[39;49m)\n\u001b[0;32m   1421\u001b[0m     \u001b[39m# The function calling this method may not recognize the transformed keys\u001b[39;00m\n\u001b[0;32m   1422\u001b[0m     \u001b[39m# So we send the values returned by self.map.getitems back into the original key space.\u001b[39;00m\n\u001b[0;32m   1423\u001b[0m     \u001b[39mreturn\u001b[39;00m {keys[keys_transformed\u001b[39m.\u001b[39mindex(rk)]: rv \u001b[39mfor\u001b[39;00m rk, rv \u001b[39min\u001b[39;00m results\u001b[39m.\u001b[39mitems()}\n",
      "File \u001b[1;32mc:\\Users\\ajkievits\\Miniconda3\\envs\\mito-seg\\lib\\site-packages\\fsspec\\mapping.py:93\u001b[0m, in \u001b[0;36mFSMap.getitems\u001b[1;34m(self, keys, on_error)\u001b[0m\n\u001b[0;32m     91\u001b[0m oe \u001b[39m=\u001b[39m on_error \u001b[39mif\u001b[39;00m on_error \u001b[39m==\u001b[39m \u001b[39m\"\u001b[39m\u001b[39mraise\u001b[39m\u001b[39m\"\u001b[39m \u001b[39melse\u001b[39;00m \u001b[39m\"\u001b[39m\u001b[39mreturn\u001b[39m\u001b[39m\"\u001b[39m\n\u001b[0;32m     92\u001b[0m \u001b[39mtry\u001b[39;00m:\n\u001b[1;32m---> 93\u001b[0m     out \u001b[39m=\u001b[39m \u001b[39mself\u001b[39;49m\u001b[39m.\u001b[39;49mfs\u001b[39m.\u001b[39;49mcat(keys2, on_error\u001b[39m=\u001b[39;49moe)\n\u001b[0;32m     94\u001b[0m     \u001b[39mif\u001b[39;00m \u001b[39misinstance\u001b[39m(out, \u001b[39mbytes\u001b[39m):\n\u001b[0;32m     95\u001b[0m         out \u001b[39m=\u001b[39m {keys2[\u001b[39m0\u001b[39m]: out}\n",
      "File \u001b[1;32mc:\\Users\\ajkievits\\Miniconda3\\envs\\mito-seg\\lib\\site-packages\\fsspec\\asyn.py:113\u001b[0m, in \u001b[0;36msync_wrapper.<locals>.wrapper\u001b[1;34m(*args, **kwargs)\u001b[0m\n\u001b[0;32m    110\u001b[0m \u001b[39m@functools\u001b[39m\u001b[39m.\u001b[39mwraps(func)\n\u001b[0;32m    111\u001b[0m \u001b[39mdef\u001b[39;00m \u001b[39mwrapper\u001b[39m(\u001b[39m*\u001b[39margs, \u001b[39m*\u001b[39m\u001b[39m*\u001b[39mkwargs):\n\u001b[0;32m    112\u001b[0m     \u001b[39mself\u001b[39m \u001b[39m=\u001b[39m obj \u001b[39mor\u001b[39;00m args[\u001b[39m0\u001b[39m]\n\u001b[1;32m--> 113\u001b[0m     \u001b[39mreturn\u001b[39;00m sync(\u001b[39mself\u001b[39m\u001b[39m.\u001b[39mloop, func, \u001b[39m*\u001b[39margs, \u001b[39m*\u001b[39m\u001b[39m*\u001b[39mkwargs)\n",
      "File \u001b[1;32mc:\\Users\\ajkievits\\Miniconda3\\envs\\mito-seg\\lib\\site-packages\\fsspec\\asyn.py:86\u001b[0m, in \u001b[0;36msync\u001b[1;34m(loop, func, timeout, *args, **kwargs)\u001b[0m\n\u001b[0;32m     83\u001b[0m asyncio\u001b[39m.\u001b[39mrun_coroutine_threadsafe(_runner(event, coro, result, timeout), loop)\n\u001b[0;32m     84\u001b[0m \u001b[39mwhile\u001b[39;00m \u001b[39mTrue\u001b[39;00m:\n\u001b[0;32m     85\u001b[0m     \u001b[39m# this loops allows thread to get interrupted\u001b[39;00m\n\u001b[1;32m---> 86\u001b[0m     \u001b[39mif\u001b[39;00m event\u001b[39m.\u001b[39;49mwait(\u001b[39m1\u001b[39;49m):\n\u001b[0;32m     87\u001b[0m         \u001b[39mbreak\u001b[39;00m\n\u001b[0;32m     88\u001b[0m     \u001b[39mif\u001b[39;00m timeout \u001b[39mis\u001b[39;00m \u001b[39mnot\u001b[39;00m \u001b[39mNone\u001b[39;00m:\n",
      "File \u001b[1;32mc:\\Users\\ajkievits\\Miniconda3\\envs\\mito-seg\\lib\\threading.py:581\u001b[0m, in \u001b[0;36mEvent.wait\u001b[1;34m(self, timeout)\u001b[0m\n\u001b[0;32m    579\u001b[0m signaled \u001b[39m=\u001b[39m \u001b[39mself\u001b[39m\u001b[39m.\u001b[39m_flag\n\u001b[0;32m    580\u001b[0m \u001b[39mif\u001b[39;00m \u001b[39mnot\u001b[39;00m signaled:\n\u001b[1;32m--> 581\u001b[0m     signaled \u001b[39m=\u001b[39m \u001b[39mself\u001b[39;49m\u001b[39m.\u001b[39;49m_cond\u001b[39m.\u001b[39;49mwait(timeout)\n\u001b[0;32m    582\u001b[0m \u001b[39mreturn\u001b[39;00m signaled\n",
      "File \u001b[1;32mc:\\Users\\ajkievits\\Miniconda3\\envs\\mito-seg\\lib\\threading.py:316\u001b[0m, in \u001b[0;36mCondition.wait\u001b[1;34m(self, timeout)\u001b[0m\n\u001b[0;32m    314\u001b[0m \u001b[39melse\u001b[39;00m:\n\u001b[0;32m    315\u001b[0m     \u001b[39mif\u001b[39;00m timeout \u001b[39m>\u001b[39m \u001b[39m0\u001b[39m:\n\u001b[1;32m--> 316\u001b[0m         gotit \u001b[39m=\u001b[39m waiter\u001b[39m.\u001b[39;49macquire(\u001b[39mTrue\u001b[39;49;00m, timeout)\n\u001b[0;32m    317\u001b[0m     \u001b[39melse\u001b[39;00m:\n\u001b[0;32m    318\u001b[0m         gotit \u001b[39m=\u001b[39m waiter\u001b[39m.\u001b[39macquire(\u001b[39mFalse\u001b[39;00m)\n",
      "\u001b[1;31mKeyboardInterrupt\u001b[0m: "
     ]
    }
   ],
   "source": [
    "# For remote access\n",
    "dataset, data, voxelsize = import_wk_dataset_remote(TOKEN, url, dataset_name, organization_id, bbox=bbox) \n",
    "scale_factor = voxelsize[2] / voxelsize[0] / (mag_x / mag_z) # determine scalefactor for viewing\n",
    "data.shape # Coordinates are (x, y, z), but Napari weirdly reads this as (z, x, y)..."
   ]
  },
  {
   "cell_type": "code",
   "execution_count": 40,
   "metadata": {},
   "outputs": [
    {
     "data": {
      "text/plain": [
       "(1, 800, 800, 43)"
      ]
     },
     "execution_count": 40,
     "metadata": {},
     "output_type": "execute_result"
    }
   ],
   "source": [
    "# For local access\n",
    "dataset, data, voxelsize = import_wk_dataset_local(dir_path, bbox=bbox) \n",
    "scale_factor = voxelsize[2] / voxelsize[0] / (mag_x / mag_z) # determine scalefactor for viewing\n",
    "data.shape # Coordinates are (x, y, z), but Napari weirdly reads this as (z, x, y)..."
   ]
  },
  {
   "cell_type": "code",
   "execution_count": 26,
   "metadata": {},
   "outputs": [
    {
     "data": {
      "text/plain": [
       "<matplotlib.image.AxesImage at 0x1ce54b9e370>"
      ]
     },
     "execution_count": 26,
     "metadata": {},
     "output_type": "execute_result"
    },
    {
     "data": {
      "image/png": "[encoded data removed]",
      "text/plain": [
       "<Figure size 640x480 with 1 Axes>"
      ]
     },
     "metadata": {},
     "output_type": "display_data"
    }
   ],
   "source": [
    "min_data = np.min(np.squeeze(data), 2)\n",
    "plt.imshow(min_data)\n"
   ]
  },
  {
   "cell_type": "code",
   "execution_count": 29,
   "metadata": {},
   "outputs": [
    {
     "name": "stderr",
     "output_type": "stream",
     "text": [
      "C:\\Users\\ajkievits\\AppData\\Local\\Temp\\ipykernel_10776\\1455167540.py:1: DeprecationWarning: <tifffile.imsave> is deprecated. Use tifffile.imwrite\n",
      "  tf.imsave('min_projection.tif', min_data)\n"
     ]
    }
   ],
   "source": [
    "tf.imwrite('min_projection.tif', min_data)"
   ]
  },
  {
   "cell_type": "markdown",
   "metadata": {},
   "source": [
    "### 3.2 Add data to `Napari` viewer and run `Empanada`\n",
    "---\n",
    "Reads data from remote WebKnossos dataset and performs the segmentation in Napari/Empanada"
   ]
  },
  {
   "cell_type": "code",
   "execution_count": 41,
   "metadata": {},
   "outputs": [
    {
     "data": {
      "text/plain": [
       "<Image layer 'data' at 0x1ce58aa97f0>"
      ]
     },
     "execution_count": 41,
     "metadata": {},
     "output_type": "execute_result"
    }
   ],
   "source": [
    "viewer.add_image(data,\n",
    "                 scale=(1, 1, 1, scale_factor)) # Use scalefactor for realistic rendering"
   ]
  },
  {
   "cell_type": "code",
   "execution_count": 91,
   "metadata": {},
   "outputs": [
    {
     "data": {
      "text/plain": [
       "<napari._qt.widgets.qt_viewer_dock_widget.QtViewerDockWidget at 0x16e612a8280>"
      ]
     },
     "execution_count": 91,
     "metadata": {},
     "output_type": "execute_result"
    }
   ],
   "source": [
    "# Pop up `Empanada` widget\n",
    "widget = volume_inference_widget()\n",
    "viewer.window.add_dock_widget(widget, \n",
    "                              name=\"empanada\")"
   ]
  },
  {
   "cell_type": "markdown",
   "metadata": {},
   "source": [
    "### 3.2.1 Alternatively run `Empanada` 3D inference in headless mode\n",
    "---\n",
    "Perform 3D inference with `pdl_inference3d.py`"
   ]
  },
  {
   "cell_type": "code",
   "execution_count": 97,
   "metadata": {},
   "outputs": [
    {
     "name": "stderr",
     "output_type": "stream",
     "text": [
      "c:\\Users\\ajkievits\\Miniconda3\\envs\\mito-seg\\lib\\site-packages\\torch\\serialization.py:799: UserWarning: 'torch.load' received a zip file that looks like a TorchScript archive dispatching to 'torch.jit.load' (call 'torch.jit.load' directly to silence this warning)\n",
      "  warnings.warn(\"'torch.load' received a zip file that looks like a TorchScript archive\"\n"
     ]
    },
    {
     "name": "stdout",
     "output_type": "stream",
     "text": [
      "Predicting yz stack\n"
     ]
    },
    {
     "name": "stderr",
     "output_type": "stream",
     "text": [
      "100%|██████████| 43/43 [03:18<00:00,  4.62s/it]\n"
     ]
    },
    {
     "name": "stdout",
     "output_type": "stream",
     "text": [
      "Propagating labels backward through the stack...\n"
     ]
    },
    {
     "name": "stderr",
     "output_type": "stream",
     "text": [
      "100%|██████████| 43/43 [00:00<00:00, 45.12it/s]\n"
     ]
    },
    {
     "name": "stdout",
     "output_type": "stream",
     "text": [
      "Creating consensus segmentation for class mito...\n",
      "Finished!\n"
     ]
    }
   ],
   "source": [
    "config = os.path.abspath(\"configs/MitoNet_v1.yaml\")\n",
    "\n",
    "# Run 3d inference\n",
    "mito_labels = inference_3d(config, data, mode='stack', qlen=1, nmax=20000, seg_thr=0.5, nms_thr=0.1, nms_kernel=3, \n",
    "                           iou_thr=0.25, ioa_thr=0.25, pixel_vote_thr=2, cluster_io_thr=0.75, min_size=200, \n",
    "                           min_span=2, downsample_f=1, one_view=True, fine_boundaries=False, use_cpu=True)"
   ]
  },
  {
   "cell_type": "code",
   "execution_count": 100,
   "metadata": {},
   "outputs": [],
   "source": [
    "# Check result in Napari\n",
    "labels_layer = viewer.add_labels(mito_labels, name='headless-segmentation', \n",
    "                                scale=(1, 1, scale_factor))"
   ]
  },
  {
   "cell_type": "markdown",
   "metadata": {},
   "source": [
    "### 3.3 Upload to `WebKnossos`\n",
    "---\n",
    "Upload segmentations into a new segmentation layer to `WebKnossos`"
   ]
  },
  {
   "cell_type": "code",
   "execution_count": 46,
   "metadata": {},
   "outputs": [
    {
     "data": {
      "text/html": [
       "<pre style=\"white-space:pre;overflow-x:auto;line-height:normal;font-family:Menlo,'DejaVu Sans Mono',consolas,'Courier New',monospace\">c:\\Users\\ajkievits\\Miniconda3\\envs\\napari-env\\lib\\site-packages\\rich\\live.py:221: \n",
       "UserWarning: install \"ipywidgets\" for Jupyter support\n",
       "  warnings.warn('install \"ipywidgets\" for Jupyter support')\n",
       "</pre>\n"
      ],
      "text/plain": [
       "c:\\Users\\ajkievits\\Miniconda3\\envs\\napari-env\\lib\\site-packages\\rich\\live.py:221: \n",
       "UserWarning: install \"ipywidgets\" for Jupyter support\n",
       "  warnings.warn('install \"ipywidgets\" for Jupyter support')\n"
      ]
     },
     "metadata": {},
     "output_type": "display_data"
    },
    {
     "data": {
      "text/html": [
       "<pre style=\"white-space:pre;overflow-x:auto;line-height:normal;font-family:Menlo,'DejaVu Sans Mono',consolas,'Courier New',monospace\"></pre>\n"
      ],
      "text/plain": []
     },
     "metadata": {},
     "output_type": "display_data"
    },
    {
     "data": {
      "text/html": [
       "<pre style=\"white-space:pre;overflow-x:auto;line-height:normal;font-family:Menlo,'DejaVu Sans Mono',consolas,'Courier New',monospace\">\n",
       "</pre>\n"
      ],
      "text/plain": [
       "\n"
      ]
     },
     "metadata": {},
     "output_type": "display_data"
    },
    {
     "data": {
      "text/html": [
       "<pre style=\"white-space:pre;overflow-x:auto;line-height:normal;font-family:Menlo,'DejaVu Sans Mono',consolas,'Courier New',monospace\"></pre>\n"
      ],
      "text/plain": []
     },
     "metadata": {},
     "output_type": "display_data"
    },
    {
     "data": {
      "text/html": [
       "<pre style=\"white-space:pre;overflow-x:auto;line-height:normal;font-family:Menlo,'DejaVu Sans Mono',consolas,'Courier New',monospace\">\n",
       "</pre>\n"
      ],
      "text/plain": [
       "\n"
      ]
     },
     "metadata": {},
     "output_type": "display_data"
    },
    {
     "data": {
      "text/html": [
       "<pre style=\"white-space:pre;overflow-x:auto;line-height:normal;font-family:Menlo,'DejaVu Sans Mono',consolas,'Courier New',monospace\"></pre>\n"
      ],
      "text/plain": []
     },
     "metadata": {},
     "output_type": "display_data"
    },
    {
     "data": {
      "text/html": [
       "<pre style=\"white-space:pre;overflow-x:auto;line-height:normal;font-family:Menlo,'DejaVu Sans Mono',consolas,'Courier New',monospace\">\n",
       "</pre>\n"
      ],
      "text/plain": [
       "\n"
      ]
     },
     "metadata": {},
     "output_type": "display_data"
    },
    {
     "data": {
      "text/html": [
       "<pre style=\"white-space:pre;overflow-x:auto;line-height:normal;font-family:Menlo,'DejaVu Sans Mono',consolas,'Courier New',monospace\"></pre>\n"
      ],
      "text/plain": []
     },
     "metadata": {},
     "output_type": "display_data"
    },
    {
     "data": {
      "text/html": [
       "<pre style=\"white-space:pre;overflow-x:auto;line-height:normal;font-family:Menlo,'DejaVu Sans Mono',consolas,'Courier New',monospace\">\n",
       "</pre>\n"
      ],
      "text/plain": [
       "\n"
      ]
     },
     "metadata": {},
     "output_type": "display_data"
    }
   ],
   "source": [
    "# Get labels\n",
    "label_layer = viewer.layers['data-mito-prediction']\n",
    "mito_labels = label_layer.data\n",
    "\n",
    "# Make new \"segmentation\" layer\n",
    "segmentation_layer = dataset.add_layer(\n",
    "        \"mito-segmentation\", \n",
    "        wk.SEGMENTATION_CATEGORY,\n",
    "        compressed=True,\n",
    "        largest_segment_id=int(mito_labels.max())\n",
    "        )\n",
    "# Add \"Mag\" and segmentation data to \"Mag\"\n",
    "mag = segmentation_layer.add_mag(MAG, compress=True)\n",
    "mag.write(data=mito_labels,\n",
    "          absolute_offset=bbox.topleft)\n",
    "segmentation_layer.downsample(sampling_mode=\"constant_z\")"
   ]
  },
  {
   "cell_type": "markdown",
   "metadata": {},
   "source": [
    "### 3.4 Analysis \n",
    "---\n",
    "Analyses `label` layer to compute some quick statistics of the labels, for model tuning"
   ]
  },
  {
   "cell_type": "code",
   "execution_count": 11,
   "metadata": {},
   "outputs": [
    {
     "ename": "KeyError",
     "evalue": "\"'empanada-2d-seg' is not in list\"",
     "output_type": "error",
     "traceback": [
      "\u001b[1;31m---------------------------------------------------------------------------\u001b[0m",
      "\u001b[1;31mValueError\u001b[0m                                Traceback (most recent call last)",
      "File \u001b[1;32mc:\\Users\\ajkievits\\Miniconda3\\envs\\napari-env\\lib\\site-packages\\napari\\utils\\events\\containers\\_typed.py:142\u001b[0m, in \u001b[0;36mTypedMutableSequence.__getitem__\u001b[1;34m(self, key)\u001b[0m\n\u001b[0;32m    141\u001b[0m \u001b[39mtry\u001b[39;00m:\n\u001b[1;32m--> 142\u001b[0m     \u001b[39mreturn\u001b[39;00m \u001b[39mself\u001b[39m\u001b[39m.\u001b[39m\u001b[39m__getitem__\u001b[39m(\u001b[39mself\u001b[39;49m\u001b[39m.\u001b[39;49mindex(key))\n\u001b[0;32m    143\u001b[0m \u001b[39mexcept\u001b[39;00m \u001b[39mValueError\u001b[39;00m \u001b[39mas\u001b[39;00m e:\n",
      "File \u001b[1;32mc:\\Users\\ajkievits\\Miniconda3\\envs\\napari-env\\lib\\site-packages\\napari\\utils\\events\\containers\\_typed.py:230\u001b[0m, in \u001b[0;36mTypedMutableSequence.index\u001b[1;34m(self, value, start, stop)\u001b[0m\n\u001b[0;32m    228\u001b[0m         \u001b[39mreturn\u001b[39;00m i\n\u001b[1;32m--> 230\u001b[0m \u001b[39mraise\u001b[39;00m \u001b[39mValueError\u001b[39;00m(\n\u001b[0;32m    231\u001b[0m     trans\u001b[39m.\u001b[39m_(\n\u001b[0;32m    232\u001b[0m         \u001b[39m\"\u001b[39m\u001b[39m{value!r}\u001b[39;00m\u001b[39m is not in list\u001b[39m\u001b[39m\"\u001b[39m,\n\u001b[0;32m    233\u001b[0m         deferred\u001b[39m=\u001b[39m\u001b[39mTrue\u001b[39;00m,\n\u001b[0;32m    234\u001b[0m         value\u001b[39m=\u001b[39mvalue,\n\u001b[0;32m    235\u001b[0m     )\n\u001b[0;32m    236\u001b[0m )\n",
      "\u001b[1;31mValueError\u001b[0m: 'empanada-2d-seg' is not in list",
      "\nThe above exception was the direct cause of the following exception:\n",
      "\u001b[1;31mKeyError\u001b[0m                                  Traceback (most recent call last)",
      "Cell \u001b[1;32mIn[11], line 2\u001b[0m\n\u001b[0;32m      1\u001b[0m \u001b[39m# This is for the 2D slice inference \u001b[39;00m\n\u001b[1;32m----> 2\u001b[0m label_layer \u001b[39m=\u001b[39m viewer\u001b[39m.\u001b[39;49mlayers[\u001b[39m'\u001b[39;49m\u001b[39mempanada-2d-seg\u001b[39;49m\u001b[39m'\u001b[39;49m]\n\u001b[0;32m      3\u001b[0m mito_labels \u001b[39m=\u001b[39m np\u001b[39m.\u001b[39msqueeze(label_layer\u001b[39m.\u001b[39mdata)\n\u001b[0;32m      5\u001b[0m rp_dict \u001b[39m=\u001b[39m regionprops_table(\n\u001b[0;32m      6\u001b[0m     mito_labels,\n\u001b[0;32m      7\u001b[0m     properties\u001b[39m=\u001b[39m[\u001b[39m'\u001b[39m\u001b[39mlabel\u001b[39m\u001b[39m'\u001b[39m,\u001b[39m'\u001b[39m\u001b[39mbbox\u001b[39m\u001b[39m'\u001b[39m,\u001b[39m'\u001b[39m\u001b[39marea_bbox\u001b[39m\u001b[39m'\u001b[39m]\n\u001b[0;32m      8\u001b[0m     )\n",
      "File \u001b[1;32mc:\\Users\\ajkievits\\Miniconda3\\envs\\napari-env\\lib\\site-packages\\napari\\utils\\events\\containers\\_typed.py:144\u001b[0m, in \u001b[0;36mTypedMutableSequence.__getitem__\u001b[1;34m(self, key)\u001b[0m\n\u001b[0;32m    142\u001b[0m         \u001b[39mreturn\u001b[39;00m \u001b[39mself\u001b[39m\u001b[39m.\u001b[39m\u001b[39m__getitem__\u001b[39m(\u001b[39mself\u001b[39m\u001b[39m.\u001b[39mindex(key))\n\u001b[0;32m    143\u001b[0m     \u001b[39mexcept\u001b[39;00m \u001b[39mValueError\u001b[39;00m \u001b[39mas\u001b[39;00m e:\n\u001b[1;32m--> 144\u001b[0m         \u001b[39mraise\u001b[39;00m \u001b[39mKeyError\u001b[39;00m(\u001b[39mstr\u001b[39m(e)) \u001b[39mfrom\u001b[39;00m \u001b[39me\u001b[39;00m\n\u001b[0;32m    146\u001b[0m result \u001b[39m=\u001b[39m \u001b[39mself\u001b[39m\u001b[39m.\u001b[39m_list[key]\n\u001b[0;32m    147\u001b[0m \u001b[39mreturn\u001b[39;00m \u001b[39mself\u001b[39m\u001b[39m.\u001b[39m__newlike__(result) \u001b[39mif\u001b[39;00m \u001b[39misinstance\u001b[39m(result, \u001b[39mlist\u001b[39m) \u001b[39melse\u001b[39;00m result\n",
      "\u001b[1;31mKeyError\u001b[0m: \"'empanada-2d-seg' is not in list\""
     ]
    }
   ],
   "source": [
    "# This is for the 2D slice inference \n",
    "label_layer = viewer.layers['empanada-2d-seg']\n",
    "mito_labels = np.squeeze(label_layer.data)\n",
    "\n",
    "rp_dict = regionprops_table(\n",
    "    mito_labels,\n",
    "    properties=['label','bbox','area_bbox']\n",
    "    )\n",
    "df = pd.DataFrame(rp_dict)\n",
    "df.head()"
   ]
  },
  {
   "cell_type": "code",
   "execution_count": 19,
   "metadata": {},
   "outputs": [
    {
     "data": {
      "text/html": [
       "<div>\n",
       "<style scoped>\n",
       "    .dataframe tbody tr th:only-of-type {\n",
       "        vertical-align: middle;\n",
       "    }\n",
       "\n",
       "    .dataframe tbody tr th {\n",
       "        vertical-align: top;\n",
       "    }\n",
       "\n",
       "    .dataframe thead th {\n",
       "        text-align: right;\n",
       "    }\n",
       "</style>\n",
       "<table border=\"1\" class=\"dataframe\">\n",
       "  <thead>\n",
       "    <tr style=\"text-align: right;\">\n",
       "      <th></th>\n",
       "      <th>label</th>\n",
       "      <th>volume (voxels)</th>\n",
       "    </tr>\n",
       "  </thead>\n",
       "  <tbody>\n",
       "    <tr>\n",
       "      <th>0</th>\n",
       "      <td>1</td>\n",
       "      <td>340</td>\n",
       "    </tr>\n",
       "    <tr>\n",
       "      <th>1</th>\n",
       "      <td>2</td>\n",
       "      <td>757</td>\n",
       "    </tr>\n",
       "    <tr>\n",
       "      <th>2</th>\n",
       "      <td>3</td>\n",
       "      <td>549</td>\n",
       "    </tr>\n",
       "    <tr>\n",
       "      <th>3</th>\n",
       "      <td>4</td>\n",
       "      <td>3388</td>\n",
       "    </tr>\n",
       "    <tr>\n",
       "      <th>4</th>\n",
       "      <td>5</td>\n",
       "      <td>1168</td>\n",
       "    </tr>\n",
       "  </tbody>\n",
       "</table>\n",
       "</div>"
      ],
      "text/plain": [
       "   label  volume (voxels)\n",
       "0      1              340\n",
       "1      2              757\n",
       "2      3              549\n",
       "3      4             3388\n",
       "4      5             1168"
      ]
     },
     "execution_count": 19,
     "metadata": {},
     "output_type": "execute_result"
    }
   ],
   "source": [
    "# This is for the 3D inference (3D instance segmentation)\n",
    "label_layer = viewer.layers['data-mito-prediction']\n",
    "mito_labels = np.squeeze(label_layer.data)\n",
    "volumes = np.transpose(np.unique(mito_labels, \n",
    "                    return_counts=True))\n",
    "mito_volumes = pd.DataFrame(data=volumes[1:], columns=['label','volume (voxels)']) # Ignore background label which is 0\n",
    "mito_volumes.head()"
   ]
  },
  {
   "cell_type": "code",
   "execution_count": 44,
   "metadata": {},
   "outputs": [
    {
     "data": {
      "text/plain": [
       "(0.0, 10000.0)"
      ]
     },
     "execution_count": 44,
     "metadata": {},
     "output_type": "execute_result"
    },
    {
     "data": {
      "image/png": "[encoded data removed]",
      "text/plain": [
       "<Figure size 640x480 with 1 Axes>"
      ]
     },
     "metadata": {},
     "output_type": "display_data"
    },
    {
     "ename": "",
     "evalue": "",
     "output_type": "error",
     "traceback": [
      "\u001b[1;31mThe Kernel crashed while executing code in the the current cell or a previous cell. Please review the code in the cell(s) to identify a possible cause of the failure. Click <a href='https://aka.ms/vscodeJupyterKernelCrash'>here</a> for more info. View Jupyter <a href='command:jupyter.viewOutput'>log</a> for further details."
     ]
    }
   ],
   "source": [
    "plot1 = sns.histplot(data=mito_volumes,x='volume (voxels)')\n",
    "plot1.set_xlim([0, 10000])"
   ]
  },
  {
   "cell_type": "code",
   "execution_count": null,
   "metadata": {},
   "outputs": [],
   "source": [
    "from tqdm.notebook import trange, tqdm"
   ]
  },
  {
   "cell_type": "code",
   "execution_count": null,
   "metadata": {},
   "outputs": [],
   "source": [
    "for i in tqdm(range(int(9e6))):\n",
    "    pass"
   ]
  }
 ],
 "metadata": {
  "kernelspec": {
   "display_name": "napari-env",
   "language": "python",
   "name": "python3"
  },
  "language_info": {
   "codemirror_mode": {
    "name": "ipython",
    "version": 3
   },
   "file_extension": ".py",
   "mimetype": "text/x-python",
   "name": "python",
   "nbconvert_exporter": "python",
   "pygments_lexer": "ipython3",
   "version": "3.9.17"
  },
  "orig_nbformat": 4
 },
 "nbformat": 4,
 "nbformat_minor": 2
}
