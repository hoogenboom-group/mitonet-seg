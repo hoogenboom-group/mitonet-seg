{
 "cells": [
  {
   "cell_type": "markdown",
   "metadata": {},
   "source": [
    "## **View MitoNet segmentations in 3D**\n",
    "---\n",
    "Visualize results from MitoNet segmentation"
   ]
  },
  {
   "cell_type": "code",
   "execution_count": 2,
   "metadata": {},
   "outputs": [],
   "source": [
    "# Data import\n",
    "import webknossos as wk\n",
    "import numpy as np\n",
    "\n",
    "# Napari\n",
    "import napari\n",
    "from empanada_napari._volume_inference import volume_inference_widget\n",
    "import empanada\n",
    "\n",
    "# Analysis\n",
    "import matplotlib.pyplot as plt\n",
    "import pandas as pd"
   ]
  },
  {
   "cell_type": "code",
   "execution_count": 32,
   "metadata": {},
   "outputs": [],
   "source": [
    "# Create an empty viewer\n",
    "viewer = napari.Viewer()"
   ]
  },
  {
   "cell_type": "code",
   "execution_count": 33,
   "metadata": {},
   "outputs": [],
   "source": [
    "def import_wk_dataset_seg_local(dir_path, segmentation, MAG_seg, MAG_EM, layer=\"color\", bbox_EM=None, bbox_seg=None) -> None:\n",
    "    # open local dataset in given directory \n",
    "    dataset = wk.Dataset.open(\n",
    "        dataset_path = dir_path)\n",
    "    voxel_size = dataset.voxel_size\n",
    "\n",
    "    EM = dataset.get_layer(layer) # Layer\n",
    "    labels = dataset.get_layer(segmentation) # Segmentation Layer\n",
    "    mag_view = EM.get_mag(MAG_EM) # MagView\n",
    "    mag_view_seg = labels.get_mag(MAG_seg) # MagView\n",
    "\n",
    "    view = mag_view.get_view(absolute_offset=bbox_EM.topleft, size=bbox_EM.size) # \"absolute_offset\" and \"size\" are in Mag(1)!\n",
    "    view_seg = mag_view_seg.get_view(absolute_offset=bbox_seg.topleft, size=bbox_seg.size) # \"absolute_offset\" and \"size\" are in Mag(1)!\n",
    "    \n",
    "    data = view.read()\n",
    "    seg = view_seg.read()\n",
    "\n",
    "    # return data, voxel size\n",
    "    return dataset, data, seg, voxel_size"
   ]
  },
  {
   "cell_type": "markdown",
   "metadata": {},
   "source": [
    "### **3.1 Configure dataset parameters**\n",
    "---"
   ]
  },
  {
   "cell_type": "code",
   "execution_count": 34,
   "metadata": {},
   "outputs": [],
   "source": [
    "TOKEN = \"A_KRh0eDGiIuQMTL1EKxWg\" # Don't share with others!\n",
    "url = \"https://webknossos.tnw.tudelft.nl\"\n",
    "dataset_name = \"20230626_RP_serial\"\n",
    "organization_id = \"hoogenboom-group\"\n",
    "dir_path = 'Z:/webknossos/binaryData/hoogenboom-group/20230626_RP_serial'\n",
    "mag_x_seg, mag_y_seg, mag_z_seg = 4, 4, 1 # For MitoNet predictions 4, 4, 1 or larger, no 2, 2, 1 and 1, 1, 1 exist!\n",
    "mag_x_EM, mag_y_EM, mag_z_EM = 2, 2, 1\n",
    "MAG_seg = wk.Mag(f\"{mag_x_seg}-{mag_y_seg}-{mag_z_seg}\")\n",
    "MAG_EM = wk.Mag(f\"{mag_x_EM}-{mag_y_EM}-{mag_z_EM}\")"
   ]
  },
  {
   "cell_type": "code",
   "execution_count": 35,
   "metadata": {},
   "outputs": [],
   "source": [
    "# Define bboxes separately because they can be on different zoom levels\n",
    "bbox_EM = wk.BoundingBox((14931, 14087, 0),\n",
    "                         (4096, 4096, 43)).align_with_mag(MAG_EM) # ((x0, y0, z0), (x_size, y_size, z_size))\n",
    "bbox_seg = wk.BoundingBox((14931, 14087, 0),\n",
    "                          (4096, 4096, 43)).align_with_mag(MAG_seg) # ((x0, y0, z0), (x_size, y_size, z_size))"
   ]
  },
  {
   "cell_type": "markdown",
   "metadata": {},
   "source": [
    "### **3.2 Read data from WebKnossos (remote or local)**\n",
    "---\n",
    "Reads data and segmentations test stack from local `WebKnossos` dataset"
   ]
  },
  {
   "cell_type": "code",
   "execution_count": 36,
   "metadata": {},
   "outputs": [
    {
     "name": "stderr",
     "output_type": "stream",
     "text": [
      "c:\\Users\\ajkievits\\Miniconda3\\envs\\mito-seg\\lib\\site-packages\\webknossos\\dataset\\view.py:640: UserWarning: [WARNING] get_view() was called without block alignment. Please only use sequentially, parallel access across such views is error-prone.\n",
      "  warnings.warn(\n"
     ]
    },
    {
     "data": {
      "text/plain": [
       "(2047, 2047, 43)"
      ]
     },
     "execution_count": 36,
     "metadata": {},
     "output_type": "execute_result"
    }
   ],
   "source": [
    "# For local access\n",
    "dataset, data, seg, voxelsize = import_wk_dataset_seg_local(dir_path,\n",
    "                                                            segmentation=\"mito-segmentation-full4\",\n",
    "                                                            MAG_seg=MAG_seg,\n",
    "                                                            MAG_EM=MAG_EM,\n",
    "                                                            bbox_EM=bbox_EM,\n",
    "                                                            bbox_seg=bbox_seg) \n",
    "scale_factor = voxelsize[2] / voxelsize[0] / (mag_x / mag_z) # determine scalefactor for viewing\n",
    "data, seg = np.squeeze(data), np.squeeze(seg)\n",
    "data.shape # Coordinates are (x, y, z), but Napari weirdly reads this as (y, z, x)...\n",
    "data.shape # Coordinates are (x, y, z), but Napari weirdly reads this as (z, x, y)..."
   ]
  },
  {
   "cell_type": "markdown",
   "metadata": {},
   "source": [
    "### **3.2 Add data + segmentations to `Napari` viewer**\n",
    "---\n",
    "Reads data and segmentations from WebKnossos into `Napari`"
   ]
  },
  {
   "cell_type": "code",
   "execution_count": 40,
   "metadata": {},
   "outputs": [
    {
     "name": "stderr",
     "output_type": "stream",
     "text": [
      "WARNING: QWindowsWindow::setMouseGrabEnabled: Not setting mouse grab for invisible window QWidgetWindow/'napari/view/scalebarWindow'\n",
      "WARNING: QWindowsWindow::setMouseGrabEnabled: Not setting mouse grab for invisible window QWidgetWindow/'napari/view/scalebarWindow'\n"
     ]
    }
   ],
   "source": [
    "# Add data tp viewer\n",
    "viewer.add_image(np.transpose(data, (2, 0, 1)),\n",
    "                              scale=(scale_factor, 1, 1)) # Use scalefactor for realistic rendering\n",
    "\n",
    "# Add segmentation\n",
    "labels_layer = viewer.add_labels(np.transpose(seg, (2, 0, 1)), \n",
    "                                 name='segmentation', \n",
    "                                 scale=(scale_factor, mag_x_seg/mag_x_EM, mag_x_seg/mag_x_EM)) # Scale to EM  "
   ]
  },
  {
   "cell_type": "markdown",
   "metadata": {},
   "source": [
    "### 3.3 **Some quick statistics**\n",
    "---\n",
    "Compute some statistics with `numpy`"
   ]
  },
  {
   "cell_type": "code",
   "execution_count": 9,
   "metadata": {},
   "outputs": [
    {
     "ename": "KeyError",
     "evalue": "\"'mito-segmentation' is not in list\"",
     "output_type": "error",
     "traceback": [
      "\u001b[1;31m---------------------------------------------------------------------------\u001b[0m",
      "\u001b[1;31mValueError\u001b[0m                                Traceback (most recent call last)",
      "File \u001b[1;32mc:\\Users\\ajkievits\\Miniconda3\\envs\\mito-seg\\lib\\site-packages\\napari\\utils\\events\\containers\\_typed.py:142\u001b[0m, in \u001b[0;36mTypedMutableSequence.__getitem__\u001b[1;34m(self, key)\u001b[0m\n\u001b[0;32m    141\u001b[0m \u001b[39mtry\u001b[39;00m:\n\u001b[1;32m--> 142\u001b[0m     \u001b[39mreturn\u001b[39;00m \u001b[39mself\u001b[39m\u001b[39m.\u001b[39m\u001b[39m__getitem__\u001b[39m(\u001b[39mself\u001b[39;49m\u001b[39m.\u001b[39;49mindex(key))\n\u001b[0;32m    143\u001b[0m \u001b[39mexcept\u001b[39;00m \u001b[39mValueError\u001b[39;00m \u001b[39mas\u001b[39;00m e:\n",
      "File \u001b[1;32mc:\\Users\\ajkievits\\Miniconda3\\envs\\mito-seg\\lib\\site-packages\\napari\\utils\\events\\containers\\_typed.py:230\u001b[0m, in \u001b[0;36mTypedMutableSequence.index\u001b[1;34m(self, value, start, stop)\u001b[0m\n\u001b[0;32m    228\u001b[0m         \u001b[39mreturn\u001b[39;00m i\n\u001b[1;32m--> 230\u001b[0m \u001b[39mraise\u001b[39;00m \u001b[39mValueError\u001b[39;00m(\n\u001b[0;32m    231\u001b[0m     trans\u001b[39m.\u001b[39m_(\n\u001b[0;32m    232\u001b[0m         \u001b[39m\"\u001b[39m\u001b[39m{value!r}\u001b[39;00m\u001b[39m is not in list\u001b[39m\u001b[39m\"\u001b[39m,\n\u001b[0;32m    233\u001b[0m         deferred\u001b[39m=\u001b[39m\u001b[39mTrue\u001b[39;00m,\n\u001b[0;32m    234\u001b[0m         value\u001b[39m=\u001b[39mvalue,\n\u001b[0;32m    235\u001b[0m     )\n\u001b[0;32m    236\u001b[0m )\n",
      "\u001b[1;31mValueError\u001b[0m: 'mito-segmentation' is not in list",
      "\nThe above exception was the direct cause of the following exception:\n",
      "\u001b[1;31mKeyError\u001b[0m                                  Traceback (most recent call last)",
      "\u001b[1;32mc:\\Users\\ajkievits\\Git\\wk2napari\\mito-segmentation-check.ipynb Cell 13\u001b[0m line \u001b[0;36m2\n\u001b[0;32m      <a href='vscode-notebook-cell:/c%3A/Users/ajkievits/Git/wk2napari/mito-segmentation-check.ipynb#X15sZmlsZQ%3D%3D?line=0'>1</a>\u001b[0m \u001b[39m# This is for the 3D inference (3D instance segmentation)\u001b[39;00m\n\u001b[1;32m----> <a href='vscode-notebook-cell:/c%3A/Users/ajkievits/Git/wk2napari/mito-segmentation-check.ipynb#X15sZmlsZQ%3D%3D?line=1'>2</a>\u001b[0m label_layer \u001b[39m=\u001b[39m viewer\u001b[39m.\u001b[39;49mlayers[\u001b[39m'\u001b[39;49m\u001b[39mmito-segmentation\u001b[39;49m\u001b[39m'\u001b[39;49m]\n\u001b[0;32m      <a href='vscode-notebook-cell:/c%3A/Users/ajkievits/Git/wk2napari/mito-segmentation-check.ipynb#X15sZmlsZQ%3D%3D?line=2'>3</a>\u001b[0m mito_labels \u001b[39m=\u001b[39m np\u001b[39m.\u001b[39msqueeze(label_layer\u001b[39m.\u001b[39mdata)\n\u001b[0;32m      <a href='vscode-notebook-cell:/c%3A/Users/ajkievits/Git/wk2napari/mito-segmentation-check.ipynb#X15sZmlsZQ%3D%3D?line=3'>4</a>\u001b[0m volumes \u001b[39m=\u001b[39m np\u001b[39m.\u001b[39mtranspose(np\u001b[39m.\u001b[39munique(mito_labels, \n\u001b[0;32m      <a href='vscode-notebook-cell:/c%3A/Users/ajkievits/Git/wk2napari/mito-segmentation-check.ipynb#X15sZmlsZQ%3D%3D?line=4'>5</a>\u001b[0m                     return_counts\u001b[39m=\u001b[39m\u001b[39mTrue\u001b[39;00m))\n",
      "File \u001b[1;32mc:\\Users\\ajkievits\\Miniconda3\\envs\\mito-seg\\lib\\site-packages\\napari\\utils\\events\\containers\\_typed.py:144\u001b[0m, in \u001b[0;36mTypedMutableSequence.__getitem__\u001b[1;34m(self, key)\u001b[0m\n\u001b[0;32m    142\u001b[0m         \u001b[39mreturn\u001b[39;00m \u001b[39mself\u001b[39m\u001b[39m.\u001b[39m\u001b[39m__getitem__\u001b[39m(\u001b[39mself\u001b[39m\u001b[39m.\u001b[39mindex(key))\n\u001b[0;32m    143\u001b[0m     \u001b[39mexcept\u001b[39;00m \u001b[39mValueError\u001b[39;00m \u001b[39mas\u001b[39;00m e:\n\u001b[1;32m--> 144\u001b[0m         \u001b[39mraise\u001b[39;00m \u001b[39mKeyError\u001b[39;00m(\u001b[39mstr\u001b[39m(e)) \u001b[39mfrom\u001b[39;00m \u001b[39me\u001b[39;00m\n\u001b[0;32m    146\u001b[0m result \u001b[39m=\u001b[39m \u001b[39mself\u001b[39m\u001b[39m.\u001b[39m_list[key]\n\u001b[0;32m    147\u001b[0m \u001b[39mreturn\u001b[39;00m \u001b[39mself\u001b[39m\u001b[39m.\u001b[39m__newlike__(result) \u001b[39mif\u001b[39;00m \u001b[39misinstance\u001b[39m(result, \u001b[39mlist\u001b[39m) \u001b[39melse\u001b[39;00m result\n",
      "\u001b[1;31mKeyError\u001b[0m: \"'mito-segmentation' is not in list\""
     ]
    }
   ],
   "source": [
    "# This is for the 3D inference (3D instance segmentation)\n",
    "label_layer = viewer.layers['mito-segmentation']\n",
    "mito_labels = np.squeeze(label_layer.data)\n",
    "volumes = np.transpose(np.unique(mito_labels, \n",
    "                    return_counts=True))\n",
    "mito_volumes = pd.DataFrame(data=volumes[1:], columns=['label','volume (voxels)']) # Ignore background label which is 0\n",
    "mito_volumes.head()"
   ]
  },
  {
   "cell_type": "code",
   "execution_count": 24,
   "metadata": {},
   "outputs": [
    {
     "data": {
      "text/plain": [
       "<Axes: >"
      ]
     },
     "execution_count": 24,
     "metadata": {},
     "output_type": "execute_result"
    },
    {
     "data": {
      "image/png": "[encoded data removed]",
      "text/plain": [
       "<Figure size 640x480 with 1 Axes>"
      ]
     },
     "metadata": {},
     "output_type": "display_data"
    }
   ],
   "source": [
    "# Plot histogram of volumes\n",
    "mito_volumes['volume (voxels)'].hist(bins=20)"
   ]
  },
  {
   "cell_type": "markdown",
   "metadata": {},
   "source": [
    "### **3.4 Save data + segmentations to disk**\n",
    "---\n",
    "Saves `Napari` data and segmentation layers to disk"
   ]
  },
  {
   "cell_type": "code",
   "execution_count": 10,
   "metadata": {},
   "outputs": [
    {
     "data": {
      "text/plain": [
       "['seg_RP.tiff']"
      ]
     },
     "execution_count": 10,
     "metadata": {},
     "output_type": "execute_result"
    }
   ],
   "source": [
    "## Segmentation\n",
    "viewer.layers['segmentation'].save('seg_RP.tiff')"
   ]
  },
  {
   "cell_type": "code",
   "execution_count": 11,
   "metadata": {},
   "outputs": [
    {
     "data": {
      "text/plain": [
       "['cells_RP.tiff']"
      ]
     },
     "execution_count": 11,
     "metadata": {},
     "output_type": "execute_result"
    }
   ],
   "source": [
    "## Data\n",
    "viewer.layers['Image'].save('cells_RP.tiff')"
   ]
  },
  {
   "cell_type": "code",
   "execution_count": null,
   "metadata": {},
   "outputs": [],
   "source": []
  }
 ],
 "metadata": {
  "kernelspec": {
   "display_name": "mito-seg",
   "language": "python",
   "name": "python3"
  },
  "language_info": {
   "codemirror_mode": {
    "name": "ipython",
    "version": 3
   },
   "file_extension": ".py",
   "mimetype": "text/x-python",
   "name": "python",
   "nbconvert_exporter": "python",
   "pygments_lexer": "ipython3",
   "version": "0.0.0"
  },
  "orig_nbformat": 4
 },
 "nbformat": 4,
 "nbformat_minor": 2
}
