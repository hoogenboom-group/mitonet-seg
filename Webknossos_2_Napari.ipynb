{
 "cells": [
  {
   "cell_type": "markdown",
   "metadata": {},
   "source": [
    "## **View Webknossos data and segmentations in 3D with Napari**\n",
    "---\n",
    "Visualize results from U-net predictions by Wilco van Nes"
   ]
  },
  {
   "cell_type": "code",
   "execution_count": 1,
   "metadata": {},
   "outputs": [],
   "source": [
    "# Data import\n",
    "import webknossos as wk\n",
    "import numpy as np\n",
    "import zarr\n",
    "\n",
    "# Napari\n",
    "import napari\n",
    "\n",
    "# Analysis\n",
    "import matplotlib.pyplot as plt\n",
    "import pandas as pd"
   ]
  },
  {
   "cell_type": "code",
   "execution_count": null,
   "metadata": {},
   "outputs": [],
   "source": [
    "# Create an empty viewer\n",
    "viewer = napari.Viewer()"
   ]
  },
  {
   "cell_type": "code",
   "execution_count": 2,
   "metadata": {},
   "outputs": [],
   "source": [
    "def import_wk_dataset_remote(TOKEN, url, dataset_name, organization_id,\n",
    "                             MAG, segmentation, layer=\"color\", bbox=None) -> None:\n",
    "    # use the context to get acces to your group\n",
    "    with wk.webknossos_context(\n",
    "        token=TOKEN,\n",
    "        url=url\n",
    "    ):\n",
    "\n",
    "    # open remote dataset with dataset name, organization id and WebKnossos url \n",
    "        dataset = wk.Dataset.open_remote(\n",
    "                dataset_name_or_url = dataset_name,\n",
    "                organization_id = organization_id,\n",
    "                webknossos_url = url)\n",
    "        voxel_size = dataset.voxel_size\n",
    "\n",
    "        EM = dataset.get_layer(layer) # EM data Layer\n",
    "        labels = dataset.get_layer(segmentation) # Segmentation layer\n",
    "        \n",
    "        mag_view = EM.get_mag(MAG) # MagView\n",
    "        mag_view_seg = labels.get_mag(MAG) # MagView\n",
    "\n",
    "        # Get data at required resolution\n",
    "        view = mag_view.get_view(absolute_offset=bbox.topleft, size=bbox.size) # \"absolute_offset\" and \"size\" are in Mag(1)!\n",
    "        view_seg = mag_view_seg.get_view(absolute_offset=bbox.topleft, size=bbox.size) # \"absolute_offset\" and \"size\" are in Mag(1)!\n",
    "\n",
    "        # Read data from remote\n",
    "        data = view.read()\n",
    "        seg = view_seg.read()\n",
    "\n",
    "        # return data, voxel size\n",
    "        return dataset, data, seg, voxel_size"
   ]
  },
  {
   "cell_type": "markdown",
   "metadata": {},
   "source": [
    "### **3.1 Configure dataset parameters**\n",
    "---"
   ]
  },
  {
   "cell_type": "code",
   "execution_count": 6,
   "metadata": {},
   "outputs": [],
   "source": [
    "TOKEN = \"2kpxMaHbL3vhcH7K\" # Don't share with others!\n",
    "url = \"https://webknossos.tnw.tudelft.nl\"\n",
    "dataset_name = \"20230105_NK_01_with_predictions\"\n",
    "organization_id = \"hoogenboom-group\"\n",
    "dir_path = 'Z:/webknossos/binaryData/hoogenboom-group/20230105_NK_01_with_predictions'\n",
    "layer=\"WT\" # \"WT\" or \"KO\"\n",
    "segmentation=\"mito-segmentation-MitoNet\"\n",
    "\n",
    "mag_x, mag_y, mag_z = 4, 4, 1 # Zoom level of data (x, y, z). (1, 1, 1) is full resolution\n",
    "MAG = wk.Mag(f\"{mag_x}-{mag_y}-{mag_z}\")"
   ]
  },
  {
   "cell_type": "code",
   "execution_count": 7,
   "metadata": {},
   "outputs": [],
   "source": [
    "# Define bounding box here\n",
    "bbox = wk.BoundingBox((8434, 6912, 0),\n",
    "                      (4096, 4096, 37)).align_with_mag(MAG) # ((x0, y0, z0), (x_size, y_size, z_size))"
   ]
  },
  {
   "cell_type": "markdown",
   "metadata": {},
   "source": [
    "### **3.2 Read data from WebKnossos (remote or local)**\n",
    "---\n",
    "Reads data test stack from remote `WebKnossos` dataset"
   ]
  },
  {
   "cell_type": "code",
   "execution_count": 8,
   "metadata": {},
   "outputs": [
    {
     "name": "stdout",
     "output_type": "stream",
     "text": [
      "Data successfully loaded. Data has shape (1023, 1024, 37) (in x, y, z)\n"
     ]
    }
   ],
   "source": [
    "# For remote access to data (can be a bit slow to load...)\n",
    "dataset, data, seg, voxelsize = import_wk_dataset_remote(TOKEN, \n",
    "                                                         url, \n",
    "                                                         dataset_name, \n",
    "                                                         organization_id, \n",
    "                                                         MAG=MAG, \n",
    "                                                         segmentation=segmentation, \n",
    "                                                         layer=layer, \n",
    "                                                         bbox=bbox)\n",
    "scale_factor = voxelsize[2] / voxelsize[0] / (mag_x / mag_z) # determine scalefactor for viewing\n",
    "data, seg = np.squeeze(data), np.squeeze(seg)\n",
    "print(f\"Data successfully loaded. Data has shape {data.shape} (in x, y, z)\") # Coordinates are (x, y, z), but Napari weirdly reads this as (y, z, x)..."
   ]
  },
  {
   "cell_type": "markdown",
   "metadata": {},
   "source": [
    "### 3.2 Add data + segmentations to `Napari` viewer\n",
    "---\n",
    "Reads data and segmentations from WebKnossos into `Napari`"
   ]
  },
  {
   "cell_type": "code",
   "execution_count": 9,
   "metadata": {},
   "outputs": [],
   "source": [
    "# Add data to viewer\n",
    "viewer.add_image(np.transpose(data, (2, 0, 1)),\n",
    "                              scale=(scale_factor, 1, 1)) # Use scalefactor for realistic rendering\n",
    "\n",
    "# Add segmentation\n",
    "labels_layer = viewer.add_labels(np.transpose(seg, (2, 0, 1)), \n",
    "                                 name='segmentation', \n",
    "                                 scale=(scale_factor, 1, 1))                    "
   ]
  },
  {
   "cell_type": "code",
   "execution_count": 17,
   "metadata": {},
   "outputs": [
    {
     "data": {
      "text/html": [
       "<div>\n",
       "<style scoped>\n",
       "    .dataframe tbody tr th:only-of-type {\n",
       "        vertical-align: middle;\n",
       "    }\n",
       "\n",
       "    .dataframe tbody tr th {\n",
       "        vertical-align: top;\n",
       "    }\n",
       "\n",
       "    .dataframe thead th {\n",
       "        text-align: right;\n",
       "    }\n",
       "</style>\n",
       "<table border=\"1\" class=\"dataframe\">\n",
       "  <thead>\n",
       "    <tr style=\"text-align: right;\">\n",
       "      <th></th>\n",
       "      <th>label</th>\n",
       "      <th>volume (voxels)</th>\n",
       "    </tr>\n",
       "  </thead>\n",
       "  <tbody>\n",
       "    <tr>\n",
       "      <th>0</th>\n",
       "      <td>5</td>\n",
       "      <td>459</td>\n",
       "    </tr>\n",
       "    <tr>\n",
       "      <th>1</th>\n",
       "      <td>7</td>\n",
       "      <td>4573</td>\n",
       "    </tr>\n",
       "    <tr>\n",
       "      <th>2</th>\n",
       "      <td>15</td>\n",
       "      <td>1603</td>\n",
       "    </tr>\n",
       "    <tr>\n",
       "      <th>3</th>\n",
       "      <td>24</td>\n",
       "      <td>416</td>\n",
       "    </tr>\n",
       "    <tr>\n",
       "      <th>4</th>\n",
       "      <td>25</td>\n",
       "      <td>317</td>\n",
       "    </tr>\n",
       "  </tbody>\n",
       "</table>\n",
       "</div>"
      ],
      "text/plain": [
       "   label  volume (voxels)\n",
       "0      5              459\n",
       "1      7             4573\n",
       "2     15             1603\n",
       "3     24              416\n",
       "4     25              317"
      ]
     },
     "execution_count": 17,
     "metadata": {},
     "output_type": "execute_result"
    }
   ],
   "source": [
    "# This is for the 3D inference (3D instance segmentation)\n",
    "# Analyze the different objects and their size\n",
    "label_layer = viewer.layers['segmentation']\n",
    "mito_labels = np.squeeze(label_layer.data)\n",
    "volumes = np.transpose(np.unique(mito_labels, \n",
    "                    return_counts=True))\n",
    "mito_volumes = pd.DataFrame(data=volumes[1:], columns=['label','volume (voxels)']) # Ignore background label which is 0\n",
    "mito_volumes.head()"
   ]
  },
  {
   "cell_type": "code",
   "execution_count": 18,
   "metadata": {},
   "outputs": [
    {
     "data": {
      "text/plain": [
       "<Axes: >"
      ]
     },
     "execution_count": 18,
     "metadata": {},
     "output_type": "execute_result"
    },
    {
     "data": {
      "image/png": "[encoded data removed]",
      "text/plain": [
       "<Figure size 640x480 with 1 Axes>"
      ]
     },
     "metadata": {},
     "output_type": "display_data"
    }
   ],
   "source": [
    "# Plot histogram of organelle volumes\n",
    "mito_volumes['volume (voxels)'].hist(bins=20)"
   ]
  },
  {
   "cell_type": "markdown",
   "metadata": {},
   "source": [
    "### **3.3 Save data + segmentations to disk**\n",
    "---\n",
    "Saves `Napari` data and segmentation layers to disk"
   ]
  },
  {
   "cell_type": "code",
   "execution_count": 49,
   "metadata": {},
   "outputs": [
    {
     "data": {
      "text/plain": [
       "['seg.tiff']"
      ]
     },
     "execution_count": 49,
     "metadata": {},
     "output_type": "execute_result"
    }
   ],
   "source": [
    "## Segmentation\n",
    "viewer.layers['segmentation'].save('seg.tiff')"
   ]
  },
  {
   "cell_type": "code",
   "execution_count": 51,
   "metadata": {},
   "outputs": [
    {
     "data": {
      "text/plain": [
       "['cells.tiff']"
      ]
     },
     "execution_count": 51,
     "metadata": {},
     "output_type": "execute_result"
    }
   ],
   "source": [
    "## Data\n",
    "viewer.layers['Image'].save('cells.tiff')"
   ]
  },
  {
   "cell_type": "code",
   "execution_count": null,
   "metadata": {},
   "outputs": [],
   "source": []
  }
 ],
 "metadata": {
  "kernelspec": {
   "display_name": "Python 3 (ipykernel)",
   "language": "python",
   "name": "python3"
  },
  "language_info": {
   "codemirror_mode": {
    "name": "ipython",
    "version": 3
   },
   "file_extension": ".py",
   "mimetype": "text/x-python",
   "name": "python",
   "nbconvert_exporter": "python",
   "pygments_lexer": "ipython3",
   "version": "3.9.17"
  }
 },
 "nbformat": 4,
 "nbformat_minor": 2
}
